{
  "nbformat": 4,
  "nbformat_minor": 0,
  "metadata": {
    "colab": {
      "provenance": [],
      "collapsed_sections": [
        "dN8lfloGZ4qv"
      ],
      "include_colab_link": true
    },
    "kernelspec": {
      "name": "python3",
      "display_name": "Python 3"
    },
    "language_info": {
      "name": "python"
    }
  },
  "cells": [
    {
      "cell_type": "markdown",
      "metadata": {
        "id": "view-in-github",
        "colab_type": "text"
      },
      "source": [
        "<a href=\"https://colab.research.google.com/github/zhkfei-wq/810/blob/main/Lab4_classifier_evaluation.ipynb\" target=\"_parent\"><img src=\"https://colab.research.google.com/assets/colab-badge.svg\" alt=\"Open In Colab\"/></a>"
      ]
    },
    {
      "cell_type": "markdown",
      "metadata": {
        "id": "zWS19foFbo1u"
      },
      "source": [
        "# Lab4: Evaluating Classifiers Using Costs"
      ]
    },
    {
      "cell_type": "markdown",
      "metadata": {
        "id": "2w5A7n2Xbo1u"
      },
      "source": [
        "In Lab 3 we saw how to build a simple pipeline to train classifiers and evaluated them on a test data using many common metrics (accuracy, precision, recall, ROC curve, etc.).\n",
        "\n",
        "In this lab, we'll improve our evaluations and predictions by\n",
        "\n",
        "1. Using cross validation\n",
        "1. Using different costs for different errors\n",
        "1. Optimizing predictions to minimize the expected costs\n",
        "\n",
        "The overall goal remains to:\n",
        "**Develop a classifier to predict if a credit card account will default.**\n",
        "\n"
      ]
    },
    {
      "cell_type": "markdown",
      "metadata": {
        "id": "SwJUSgivbo1u"
      },
      "source": [
        "# Load and split data\n",
        "\n",
        "Let's load the dataset and quickly examine it:"
      ]
    },
    {
      "cell_type": "code",
      "source": [
        "import pandas as pd\n",
        "data_url = 'https://drive.google.com/uc?export=download&id=13bQQfKDjiuBA1njsvCEW81c4Q2huRE9z'\n",
        "data = pd.read_csv(data_url)\n",
        "print('High level data description:')\n",
        "data.info()\n",
        "print('\\nFirst 3 rows:')\n",
        "data.head(3)"
      ],
      "metadata": {
        "id": "V1QEHqKWyCFR",
        "colab": {
          "base_uri": "https://localhost:8080/",
          "height": 400
        },
        "outputId": "83e1edaa-6729-4f40-da2f-84754f864d63"
      },
      "execution_count": null,
      "outputs": [
        {
          "output_type": "stream",
          "name": "stdout",
          "text": [
            "High level data description:\n",
            "<class 'pandas.core.frame.DataFrame'>\n",
            "RangeIndex: 10000 entries, 0 to 9999\n",
            "Data columns (total 4 columns):\n",
            " #   Column   Non-Null Count  Dtype  \n",
            "---  ------   --------------  -----  \n",
            " 0   default  10000 non-null  object \n",
            " 1   student  10000 non-null  object \n",
            " 2   balance  10000 non-null  float64\n",
            " 3   income   10000 non-null  float64\n",
            "dtypes: float64(2), object(2)\n",
            "memory usage: 312.6+ KB\n",
            "\n",
            "First 3 rows:\n"
          ]
        },
        {
          "output_type": "execute_result",
          "data": {
            "text/plain": [
              "  default student      balance        income\n",
              "0      No      No   729.526495  44361.625074\n",
              "1      No     Yes   817.180407  12106.134700\n",
              "2      No      No  1073.549164  31767.138947"
            ],
            "text/html": [
              "\n",
              "  <div id=\"df-ecbe4e26-83ae-42df-8101-897b1ec57051\" class=\"colab-df-container\">\n",
              "    <div>\n",
              "<style scoped>\n",
              "    .dataframe tbody tr th:only-of-type {\n",
              "        vertical-align: middle;\n",
              "    }\n",
              "\n",
              "    .dataframe tbody tr th {\n",
              "        vertical-align: top;\n",
              "    }\n",
              "\n",
              "    .dataframe thead th {\n",
              "        text-align: right;\n",
              "    }\n",
              "</style>\n",
              "<table border=\"1\" class=\"dataframe\">\n",
              "  <thead>\n",
              "    <tr style=\"text-align: right;\">\n",
              "      <th></th>\n",
              "      <th>default</th>\n",
              "      <th>student</th>\n",
              "      <th>balance</th>\n",
              "      <th>income</th>\n",
              "    </tr>\n",
              "  </thead>\n",
              "  <tbody>\n",
              "    <tr>\n",
              "      <th>0</th>\n",
              "      <td>No</td>\n",
              "      <td>No</td>\n",
              "      <td>729.526495</td>\n",
              "      <td>44361.625074</td>\n",
              "    </tr>\n",
              "    <tr>\n",
              "      <th>1</th>\n",
              "      <td>No</td>\n",
              "      <td>Yes</td>\n",
              "      <td>817.180407</td>\n",
              "      <td>12106.134700</td>\n",
              "    </tr>\n",
              "    <tr>\n",
              "      <th>2</th>\n",
              "      <td>No</td>\n",
              "      <td>No</td>\n",
              "      <td>1073.549164</td>\n",
              "      <td>31767.138947</td>\n",
              "    </tr>\n",
              "  </tbody>\n",
              "</table>\n",
              "</div>\n",
              "    <div class=\"colab-df-buttons\">\n",
              "\n",
              "  <div class=\"colab-df-container\">\n",
              "    <button class=\"colab-df-convert\" onclick=\"convertToInteractive('df-ecbe4e26-83ae-42df-8101-897b1ec57051')\"\n",
              "            title=\"Convert this dataframe to an interactive table.\"\n",
              "            style=\"display:none;\">\n",
              "\n",
              "  <svg xmlns=\"http://www.w3.org/2000/svg\" height=\"24px\" viewBox=\"0 -960 960 960\">\n",
              "    <path d=\"M120-120v-720h720v720H120Zm60-500h600v-160H180v160Zm220 220h160v-160H400v160Zm0 220h160v-160H400v160ZM180-400h160v-160H180v160Zm440 0h160v-160H620v160ZM180-180h160v-160H180v160Zm440 0h160v-160H620v160Z\"/>\n",
              "  </svg>\n",
              "    </button>\n",
              "\n",
              "  <style>\n",
              "    .colab-df-container {\n",
              "      display:flex;\n",
              "      gap: 12px;\n",
              "    }\n",
              "\n",
              "    .colab-df-convert {\n",
              "      background-color: #E8F0FE;\n",
              "      border: none;\n",
              "      border-radius: 50%;\n",
              "      cursor: pointer;\n",
              "      display: none;\n",
              "      fill: #1967D2;\n",
              "      height: 32px;\n",
              "      padding: 0 0 0 0;\n",
              "      width: 32px;\n",
              "    }\n",
              "\n",
              "    .colab-df-convert:hover {\n",
              "      background-color: #E2EBFA;\n",
              "      box-shadow: 0px 1px 2px rgba(60, 64, 67, 0.3), 0px 1px 3px 1px rgba(60, 64, 67, 0.15);\n",
              "      fill: #174EA6;\n",
              "    }\n",
              "\n",
              "    .colab-df-buttons div {\n",
              "      margin-bottom: 4px;\n",
              "    }\n",
              "\n",
              "    [theme=dark] .colab-df-convert {\n",
              "      background-color: #3B4455;\n",
              "      fill: #D2E3FC;\n",
              "    }\n",
              "\n",
              "    [theme=dark] .colab-df-convert:hover {\n",
              "      background-color: #434B5C;\n",
              "      box-shadow: 0px 1px 3px 1px rgba(0, 0, 0, 0.15);\n",
              "      filter: drop-shadow(0px 1px 2px rgba(0, 0, 0, 0.3));\n",
              "      fill: #FFFFFF;\n",
              "    }\n",
              "  </style>\n",
              "\n",
              "    <script>\n",
              "      const buttonEl =\n",
              "        document.querySelector('#df-ecbe4e26-83ae-42df-8101-897b1ec57051 button.colab-df-convert');\n",
              "      buttonEl.style.display =\n",
              "        google.colab.kernel.accessAllowed ? 'block' : 'none';\n",
              "\n",
              "      async function convertToInteractive(key) {\n",
              "        const element = document.querySelector('#df-ecbe4e26-83ae-42df-8101-897b1ec57051');\n",
              "        const dataTable =\n",
              "          await google.colab.kernel.invokeFunction('convertToInteractive',\n",
              "                                                    [key], {});\n",
              "        if (!dataTable) return;\n",
              "\n",
              "        const docLinkHtml = 'Like what you see? Visit the ' +\n",
              "          '<a target=\"_blank\" href=https://colab.research.google.com/notebooks/data_table.ipynb>data table notebook</a>'\n",
              "          + ' to learn more about interactive tables.';\n",
              "        element.innerHTML = '';\n",
              "        dataTable['output_type'] = 'display_data';\n",
              "        await google.colab.output.renderOutput(dataTable, element);\n",
              "        const docLink = document.createElement('div');\n",
              "        docLink.innerHTML = docLinkHtml;\n",
              "        element.appendChild(docLink);\n",
              "      }\n",
              "    </script>\n",
              "  </div>\n",
              "\n",
              "\n",
              "    <div id=\"df-beed3a7c-a3e1-4161-9d47-2c88e8c0550c\">\n",
              "      <button class=\"colab-df-quickchart\" onclick=\"quickchart('df-beed3a7c-a3e1-4161-9d47-2c88e8c0550c')\"\n",
              "                title=\"Suggest charts\"\n",
              "                style=\"display:none;\">\n",
              "\n",
              "<svg xmlns=\"http://www.w3.org/2000/svg\" height=\"24px\"viewBox=\"0 0 24 24\"\n",
              "     width=\"24px\">\n",
              "    <g>\n",
              "        <path d=\"M19 3H5c-1.1 0-2 .9-2 2v14c0 1.1.9 2 2 2h14c1.1 0 2-.9 2-2V5c0-1.1-.9-2-2-2zM9 17H7v-7h2v7zm4 0h-2V7h2v10zm4 0h-2v-4h2v4z\"/>\n",
              "    </g>\n",
              "</svg>\n",
              "      </button>\n",
              "\n",
              "<style>\n",
              "  .colab-df-quickchart {\n",
              "      --bg-color: #E8F0FE;\n",
              "      --fill-color: #1967D2;\n",
              "      --hover-bg-color: #E2EBFA;\n",
              "      --hover-fill-color: #174EA6;\n",
              "      --disabled-fill-color: #AAA;\n",
              "      --disabled-bg-color: #DDD;\n",
              "  }\n",
              "\n",
              "  [theme=dark] .colab-df-quickchart {\n",
              "      --bg-color: #3B4455;\n",
              "      --fill-color: #D2E3FC;\n",
              "      --hover-bg-color: #434B5C;\n",
              "      --hover-fill-color: #FFFFFF;\n",
              "      --disabled-bg-color: #3B4455;\n",
              "      --disabled-fill-color: #666;\n",
              "  }\n",
              "\n",
              "  .colab-df-quickchart {\n",
              "    background-color: var(--bg-color);\n",
              "    border: none;\n",
              "    border-radius: 50%;\n",
              "    cursor: pointer;\n",
              "    display: none;\n",
              "    fill: var(--fill-color);\n",
              "    height: 32px;\n",
              "    padding: 0;\n",
              "    width: 32px;\n",
              "  }\n",
              "\n",
              "  .colab-df-quickchart:hover {\n",
              "    background-color: var(--hover-bg-color);\n",
              "    box-shadow: 0 1px 2px rgba(60, 64, 67, 0.3), 0 1px 3px 1px rgba(60, 64, 67, 0.15);\n",
              "    fill: var(--button-hover-fill-color);\n",
              "  }\n",
              "\n",
              "  .colab-df-quickchart-complete:disabled,\n",
              "  .colab-df-quickchart-complete:disabled:hover {\n",
              "    background-color: var(--disabled-bg-color);\n",
              "    fill: var(--disabled-fill-color);\n",
              "    box-shadow: none;\n",
              "  }\n",
              "\n",
              "  .colab-df-spinner {\n",
              "    border: 2px solid var(--fill-color);\n",
              "    border-color: transparent;\n",
              "    border-bottom-color: var(--fill-color);\n",
              "    animation:\n",
              "      spin 1s steps(1) infinite;\n",
              "  }\n",
              "\n",
              "  @keyframes spin {\n",
              "    0% {\n",
              "      border-color: transparent;\n",
              "      border-bottom-color: var(--fill-color);\n",
              "      border-left-color: var(--fill-color);\n",
              "    }\n",
              "    20% {\n",
              "      border-color: transparent;\n",
              "      border-left-color: var(--fill-color);\n",
              "      border-top-color: var(--fill-color);\n",
              "    }\n",
              "    30% {\n",
              "      border-color: transparent;\n",
              "      border-left-color: var(--fill-color);\n",
              "      border-top-color: var(--fill-color);\n",
              "      border-right-color: var(--fill-color);\n",
              "    }\n",
              "    40% {\n",
              "      border-color: transparent;\n",
              "      border-right-color: var(--fill-color);\n",
              "      border-top-color: var(--fill-color);\n",
              "    }\n",
              "    60% {\n",
              "      border-color: transparent;\n",
              "      border-right-color: var(--fill-color);\n",
              "    }\n",
              "    80% {\n",
              "      border-color: transparent;\n",
              "      border-right-color: var(--fill-color);\n",
              "      border-bottom-color: var(--fill-color);\n",
              "    }\n",
              "    90% {\n",
              "      border-color: transparent;\n",
              "      border-bottom-color: var(--fill-color);\n",
              "    }\n",
              "  }\n",
              "</style>\n",
              "\n",
              "      <script>\n",
              "        async function quickchart(key) {\n",
              "          const quickchartButtonEl =\n",
              "            document.querySelector('#' + key + ' button');\n",
              "          quickchartButtonEl.disabled = true;  // To prevent multiple clicks.\n",
              "          quickchartButtonEl.classList.add('colab-df-spinner');\n",
              "          try {\n",
              "            const charts = await google.colab.kernel.invokeFunction(\n",
              "                'suggestCharts', [key], {});\n",
              "          } catch (error) {\n",
              "            console.error('Error during call to suggestCharts:', error);\n",
              "          }\n",
              "          quickchartButtonEl.classList.remove('colab-df-spinner');\n",
              "          quickchartButtonEl.classList.add('colab-df-quickchart-complete');\n",
              "        }\n",
              "        (() => {\n",
              "          let quickchartButtonEl =\n",
              "            document.querySelector('#df-beed3a7c-a3e1-4161-9d47-2c88e8c0550c button');\n",
              "          quickchartButtonEl.style.display =\n",
              "            google.colab.kernel.accessAllowed ? 'block' : 'none';\n",
              "        })();\n",
              "      </script>\n",
              "    </div>\n",
              "\n",
              "    </div>\n",
              "  </div>\n"
            ],
            "application/vnd.google.colaboratory.intrinsic+json": {
              "type": "dataframe",
              "variable_name": "data",
              "summary": "{\n  \"name\": \"data\",\n  \"rows\": 10000,\n  \"fields\": [\n    {\n      \"column\": \"default\",\n      \"properties\": {\n        \"dtype\": \"category\",\n        \"num_unique_values\": 2,\n        \"samples\": [\n          \"Yes\",\n          \"No\"\n        ],\n        \"semantic_type\": \"\",\n        \"description\": \"\"\n      }\n    },\n    {\n      \"column\": \"student\",\n      \"properties\": {\n        \"dtype\": \"category\",\n        \"num_unique_values\": 2,\n        \"samples\": [\n          \"Yes\",\n          \"No\"\n        ],\n        \"semantic_type\": \"\",\n        \"description\": \"\"\n      }\n    },\n    {\n      \"column\": \"balance\",\n      \"properties\": {\n        \"dtype\": \"number\",\n        \"std\": 483.71498520561767,\n        \"min\": 0.0,\n        \"max\": 2654.32257628018,\n        \"num_unique_values\": 9502,\n        \"samples\": [\n          245.346492518079,\n          186.523520052956\n        ],\n        \"semantic_type\": \"\",\n        \"description\": \"\"\n      }\n    },\n    {\n      \"column\": \"income\",\n      \"properties\": {\n        \"dtype\": \"number\",\n        \"std\": 13336.639562689912,\n        \"min\": 771.967729386357,\n        \"max\": 73554.2334951972,\n        \"num_unique_values\": 10000,\n        \"samples\": [\n          31507.0892769087,\n          42139.0702685072\n        ],\n        \"semantic_type\": \"\",\n        \"description\": \"\"\n      }\n    }\n  ]\n}"
            }
          },
          "metadata": {},
          "execution_count": 1
        }
      ]
    },
    {
      "cell_type": "markdown",
      "source": [
        "Let's set aside some data for testing so that we can estimate the generalization error."
      ],
      "metadata": {
        "id": "oLGNV6UTppfE"
      }
    },
    {
      "cell_type": "code",
      "source": [
        "import numpy as np\n",
        "from sklearn.model_selection import train_test_split\n",
        "\n",
        "X = data.drop(\"default\", axis=1)\n",
        "y = data[\"default\"]\n",
        "\n",
        "X_train, X_test, y_train, y_test = train_test_split(X, y, test_size=0.25, random_state=0)"
      ],
      "metadata": {
        "id": "LxxAclrfxp0m"
      },
      "execution_count": null,
      "outputs": []
    },
    {
      "cell_type": "markdown",
      "source": [
        "And create the full pipeline below as we did in Lab 3."
      ],
      "metadata": {
        "id": "RAbznx95dEcf"
      }
    },
    {
      "cell_type": "code",
      "source": [
        "from sklearn.preprocessing import StandardScaler\n",
        "from sklearn.preprocessing import OneHotEncoder\n",
        "from sklearn.compose import ColumnTransformer\n",
        "from sklearn.pipeline import make_pipeline\n",
        "from sklearn.linear_model import LogisticRegression\n",
        "\n",
        "from sklearn import set_config\n",
        "set_config(display='diagram') # shows the pipeline structure graphically\n",
        "\n",
        "cat_attribs = [\"student\"]\n",
        "num_attribs = [\"balance\", \"income\"]\n",
        "\n",
        "preprocess_pipeline = ColumnTransformer([ # handle each type of column with appropriate pipeline\n",
        "        (\"cat\", OneHotEncoder(drop=\"first\"), cat_attribs),\n",
        "        (\"num\", StandardScaler(), num_attribs),\n",
        "    ])\n",
        "\n",
        "lr_pipe = make_pipeline(preprocess_pipeline, LogisticRegression())"
      ],
      "metadata": {
        "id": "566OlAb6_G-9"
      },
      "execution_count": null,
      "outputs": []
    },
    {
      "cell_type": "markdown",
      "metadata": {
        "id": "s04z_ulQbo1w"
      },
      "source": [
        "# Compare multiple classifiers\n",
        "\n",
        "In the last lab we used test data to evaluate and select among multiple classifiers. While better than comparing based on training data error, it has at least two drawbacks:\n",
        "\n",
        "1. Evaluation is done on a small subset of the dataset thus can vary quite a bit from one random train-test split to next.\n",
        "1. By using the test data for selecting a model, then we can't use it to estimate generalization error -- the performance of the selected model on this test set is likely to be better than what we can expect on new data in the future.\n",
        "\n",
        "A better way to evaluate and select models that overcomes both these challenges is cross-validation within the *training data*.\n",
        "\n",
        "Note: this doesn't use test data, but splits up training data and uses their folds for training and validation. Each method is evaluated on every record in our training data (when that record is in the test fold). Thus the evaluation is likely to be more stable. After we have selected a model based on cross validation average, we can estimate its generalization error on the test data that we set aside at the beginning."
      ]
    },
    {
      "cell_type": "code",
      "source": [
        "from sklearn.model_selection import cross_val_score\n",
        "from sklearn.linear_model import LogisticRegression\n",
        "from sklearn.neighbors import KNeighborsClassifier\n",
        "from sklearn.ensemble import RandomForestClassifier\n",
        "\n",
        "lr_scores = cross_val_score(lr_pipe, X_train, y_train, cv=5, scoring='balanced_accuracy')\n",
        "  # we continue to use balanced accuracy from last time as it's a skewed dataset.\n",
        "print(f'The balanced accuracy of Logistic Regression is {lr_scores.mean():.3f}.')\n",
        "\n",
        "knn_pipe = make_pipeline(preprocess_pipeline, KNeighborsClassifier(n_neighbors=5))\n",
        "knn_scores = cross_val_score(knn_pipe, X_train, y_train, cv=5, scoring='balanced_accuracy')\n",
        "print(f'The balanced accuracy of K Nearest Neighbor is {knn_scores.mean():.3f}.')\n",
        "\n",
        "rf_pipe = make_pipeline(preprocess_pipeline, RandomForestClassifier(n_estimators=100, random_state=42))\n",
        "rf_scores = cross_val_score(rf_pipe, X_train, y_train, cv=5, scoring='balanced_accuracy')\n",
        "print(f'The balanced accuracy of Random Forest is {rf_scores.mean():.3f}.')"
      ],
      "metadata": {
        "id": "sx5D2WiDQf4x",
        "colab": {
          "base_uri": "https://localhost:8080/"
        },
        "outputId": "5534aa96-e46c-4c65-8891-8e365f91fa93"
      },
      "execution_count": null,
      "outputs": [
        {
          "output_type": "stream",
          "name": "stdout",
          "text": [
            "The balanced accuracy of Logistic Regression is 0.642.\n",
            "The balanced accuracy of K Nearest Neighbor is 0.634.\n",
            "The balanced accuracy of Random Forest is 0.652.\n"
          ]
        }
      ]
    },
    {
      "cell_type": "markdown",
      "source": [
        "***\n",
        "\n",
        "#Pick Cheapest Model by Applying Cost Matrix\n",
        "\n",
        "Which model has the highest balanced accuracy?\n",
        "\n",
        "Now, suppose we have the costs of making false positive and false negative mistakes -- and it's five times more costly to mistake a Default for Non-default than the other way.\n",
        "\n",
        "| Cost matrix    | **Predicted -** | **Predicted +** |\n",
        "|----------------|-----------------|-----------------|\n",
        "| **Actual -**   | 0               | 1               |\n",
        "| **Actual +**   | 5               | 0               |\n",
        "\n",
        "\n",
        "\n",
        "If we have these data, we no longer primarily care about accuracy, balance accuracy, Area under the ROC, and other such cost-free metrics.\n",
        "At the end of the day, we want to minimize the expected cost of using the classifier.\n",
        "\n",
        "We incorporate these costs into our evaluation by defining a custom scoring function (that gives the cost of a prediction) to use instead of the balanced accuracy."
      ],
      "metadata": {
        "id": "T5AK4R6yKYYc"
      }
    },
    {
      "cell_type": "code",
      "source": [
        "from sklearn.metrics import make_scorer, confusion_matrix\n",
        "\n",
        "def default_cost(y_true, y_pred):\n",
        "  cm = confusion_matrix(y_true, y_pred, labels = ['No', 'Yes'])\n",
        "    # labels .. guarantees that 0'th class is No and 1st is Yes. Else, order in which found in data.\n",
        "  return cm[1,0] * 5 + cm[0,1] * 1\n",
        "  # return total FN costs + total FP costs\n",
        "\n",
        "# we can directly use default_cost() method to evaluate prediction, but to use inside\n",
        "# cross-validation, we need to wrap this inside a scorer object:\n",
        "cost_scorer = make_scorer(default_cost)"
      ],
      "metadata": {
        "id": "JfQjq6a6KXkI"
      },
      "execution_count": null,
      "outputs": []
    },
    {
      "cell_type": "markdown",
      "source": [
        "Like any other scorer the `cost_scorer` is a python object that can be used on its own to measure the cost of prediction on a test data (instead of, say `balanced_accuracy_score` of prediction):"
      ],
      "metadata": {
        "id": "ISJQw2vUwUzD"
      }
    },
    {
      "cell_type": "code",
      "source": [
        "rf_pipe.fit(X_train, y_train)\n",
        "print(f'The cost of Random Forest on the test data is {cost_scorer(rf_pipe, X_test, y_test)}.')"
      ],
      "metadata": {
        "id": "42HVD1gkvpU1",
        "colab": {
          "base_uri": "https://localhost:8080/"
        },
        "outputId": "cf80bff7-4d30-4793-eaef-1e83bf0f857e"
      },
      "execution_count": null,
      "outputs": [
        {
          "output_type": "stream",
          "name": "stdout",
          "text": [
            "The cost of Random Forest on the test data is 333.\n"
          ]
        }
      ]
    },
    {
      "cell_type": "markdown",
      "source": [
        "But often we'd pass it to other wrapper methods, like `cross_val_score` below:"
      ],
      "metadata": {
        "id": "SkTw93r-xKF_"
      }
    },
    {
      "cell_type": "code",
      "source": [
        "rf_costs = cross_val_score(rf_pipe, X_train, y_train, cv=5, scoring=cost_scorer)\n",
        "print(f'The average cost of Random Forest is {rf_costs.mean():.1f}.')"
      ],
      "metadata": {
        "id": "CdZVv3zzHjws",
        "colab": {
          "base_uri": "https://localhost:8080/"
        },
        "outputId": "f71d1785-2f19-46d8-fcb9-d864382d7dfd"
      },
      "execution_count": null,
      "outputs": [
        {
          "output_type": "stream",
          "name": "stdout",
          "text": [
            "The average cost of Random Forest is 174.8.\n"
          ]
        }
      ]
    },
    {
      "cell_type": "markdown",
      "source": [
        "***\n",
        "**Exercise**\n",
        "\n",
        "Let's take 5mins, pair with a neighbor to ...\n",
        "\n",
        "*Select a classifier among the ones we have considered so far in this notebook that leads to lowest expected cost of misclassification.*\n",
        "\n",
        "***"
      ],
      "metadata": {
        "id": "_mq_-ZWKpIYt"
      }
    },
    {
      "cell_type": "markdown",
      "source": [
        "### Exercise Solution <font color='red'>(try yourself first)</font>\n"
      ],
      "metadata": {
        "id": "dN8lfloGZ4qv"
      }
    },
    {
      "cell_type": "code",
      "source": [
        "#@title Costs of Logistic Regression and k-NN (<font color='crimson'>try first</font>)\n",
        "\n",
        "lr_costs = cross_val_score(lr_pipe, X_train, y_train, cv=5, scoring=cost_scorer)\n",
        "print(f'The average cost of Logistic Regression is {lr_costs.mean():.1f}.')\n",
        "\n",
        "knn_costs = cross_val_score(knn_pipe, X_train, y_train, cv=5, scoring=cost_scorer)\n",
        "print(f'The average cost of k-Nearest Neighbor is {knn_costs.mean():.1f}.')"
      ],
      "metadata": {
        "id": "UH836UsiG47H",
        "colab": {
          "base_uri": "https://localhost:8080/"
        },
        "outputId": "c36af3d5-6920-40f8-86d7-f677fd3fc9b3",
        "cellView": "form"
      },
      "execution_count": null,
      "outputs": [
        {
          "output_type": "stream",
          "name": "stdout",
          "text": [
            "The average cost of Logistic Regression is 174.6.\n",
            "The average cost of k-Nearest Neighbor is 181.4.\n"
          ]
        }
      ]
    },
    {
      "cell_type": "markdown",
      "source": [
        "Given these we might prefer Logistic Regression, although performance of Random Forest is very close.\n",
        "\n",
        "Recall from the exercise at the end of Lab 3 that Random Forest had the highest balanced accuracy -- shows that the one with highest accuracy/balanced-accuracy need not be cheapest."
      ],
      "metadata": {
        "id": "TNqThBeiy4aQ"
      }
    },
    {
      "cell_type": "markdown",
      "source": [
        "## Choose the threshold to minimize cost\n",
        "\n",
        "In the previous block we chose a classifier that minimizes the cost of operation *under its default mode of prediction*: if the probability of default is greater than 0.5, it predicted postive; otherwise, it predicted negative. That it is five times more costly to predict \"won't default\" when a default happens, wasn't considered in our *prediction* step. We simply used the cost matrix later to conclude that the most accurate may not be the cheapest after all.\n",
        "\n",
        "As we saw in the class 4, if the two types of errors have different costs, we may be able to lower the cost of prediction, by choosing a different threshold than 0.5. In this case, since it's more costly to make a false negative mistake, we should be reluctant to flag something as negative, unless we are confident that it's negative, i.e., the probability of being positive is low (potentially lower than 0.5). Let's carry out that exercise in python now.\n",
        "\n",
        "**Task**: Find the optimum positive-probability threshold to minimize the cost of misclassification.\n"
      ],
      "metadata": {
        "id": "B9VYlE1Ms6Hv"
      }
    },
    {
      "cell_type": "markdown",
      "source": [
        "Let's start by checking the cost of using the best model obtained so far to predict on the test set (that we set aside at the beginning) under the default model of prediction."
      ],
      "metadata": {
        "id": "r1b-ffzM7wGH"
      }
    },
    {
      "cell_type": "code",
      "source": [
        "model = lr_pipe.fit(X_train, y_train)\n",
        "print('The cost under standard prediction strategy is %d.' % default_cost(y_test, model.predict(X_test)))"
      ],
      "metadata": {
        "id": "XbroODmGVwtP",
        "colab": {
          "base_uri": "https://localhost:8080/"
        },
        "outputId": "4ce8df9c-1bf6-43ce-aa73-1531ffd1cc08"
      },
      "execution_count": null,
      "outputs": [
        {
          "output_type": "stream",
          "name": "stdout",
          "text": [
            "The cost under standard prediction strategy is 337.\n"
          ]
        }
      ]
    },
    {
      "cell_type": "markdown",
      "source": [
        "Can we further improve cost simply by tuning its threshold? What should be the threshold and what cost can we expect?\n",
        "\n",
        "The scikit-learn class `TunedThresholdClassifierCV` takes a model, a cost/benefit scorer, and helps us achieve this using the following steps:\n",
        "\n",
        "1. Inside K-fold cross validation, for each CV split,\n",
        "    1. Fit the model to training data and apply the fitted model on test records to estimate their probability of being positive.\n",
        "    1. for each threshold (e.g., 0, 0.01, ..., 0.99, 1) declare test records above as positive, below as negative, and compute the score using the passed scorer object.\n",
        "1. For each threshold, average the scores across the K splits.\n",
        "1. Pick the threshold with the highest score; retrain another model on the entire training data; on it `predict()` uses the best found threshold to predict using this final fitted model."
      ],
      "metadata": {
        "id": "L3UOguZ58Ef2"
      }
    },
    {
      "cell_type": "code",
      "source": [
        "from sklearn.model_selection import TunedThresholdClassifierCV\n",
        "from sklearn.metrics import make_scorer, confusion_matrix\n",
        "\n",
        "# Define a \"benefit_scorer\" since the sklearn tuning maximizes a score\n",
        "benefit_scorer = make_scorer(default_cost, greater_is_better=False)\n",
        "  # greater_is_better=False multiplies a -1 so that maximizing actually minimizes cost.\n",
        "\n",
        "# Create an instance of TunedThresholdClassifierCV and fit() to tune\n",
        "tuned_threshold_model = TunedThresholdClassifierCV(lr_pipe, scoring=benefit_scorer, store_cv_results=True)\n",
        "tuned_threshold_model.fit(X_train, y_train)\n",
        "\n",
        "cost_after_tuning = default_cost(y_test, tuned_threshold_model.predict(X_test))\n",
        "print(f'The cost after tuning the threshold is {cost_after_tuning}.')\n",
        "print(f'The optimal threshold found by TunedThresholdClassifierCV is {tuned_threshold_model.best_threshold_:.2f}.')"
      ],
      "metadata": {
        "colab": {
          "base_uri": "https://localhost:8080/"
        },
        "id": "UHEYiZgDqMSn",
        "outputId": "8db4076f-78dc-41e3-aebb-1a5877961534"
      },
      "execution_count": null,
      "outputs": [
        {
          "output_type": "stream",
          "name": "stdout",
          "text": [
            "The cost after tuning the threshold is 252.\n",
            "The optimal threshold found by TunedThresholdClassifierCV is 0.17.\n"
          ]
        }
      ]
    },
    {
      "cell_type": "markdown",
      "source": [
        "What did we find?\n",
        "\n",
        "If we take the best found model and apply it as-is to the test data, it'll incur 337 in cost. But, if we tune its threshold — specifically, lower it (from the default of 0.5) to 0.17 — the cost of misclassification will reduce to 254.\n",
        "\n",
        "By the way, note this threshold is quite close to what we'd have obtained by equating the expected cost of False Positive and that of False Negative. This strategy would have led us to a threshold of $1/(1+5)=1/6 ≈ 0.17$ (recall our calculation from Lecture 4, see `Slides/Lecture4_QuizAnswers.pdf`).\n",
        "\n",
        "This illustrates that by considering the asymmetric costs of incorrect (and potential benefits of correct) predictions, we can get a learnt model to predict in a way that minimizes the cost (or maximizes the benefits).\n",
        "\n",
        "The following code illustrates how the cost changes as we change the threshold, with the threhsold for minimum cost."
      ],
      "metadata": {
        "id": "4PXQdHbx3YNs"
      }
    },
    {
      "cell_type": "code",
      "source": [
        "import matplotlib.pyplot as plt\n",
        "from sklearn.model_selection import FixedThresholdClassifier\n",
        "from sklearn.frozen import FrozenEstimator\n",
        "\n",
        "thresholds = tuned_threshold_model.cv_results_[\"thresholds\"]\n",
        "cv_scores = -tuned_threshold_model.cv_results_[\"scores\"]\n",
        "\n",
        "# Find the threshold with the minimum cost for plotting purposes\n",
        "ix = np.argmin(cv_scores)\n",
        "opt_thresh = thresholds[ix]\n",
        "min_cost = cv_scores[ix]\n",
        "\n",
        "frozen_lr_pipe = FrozenEstimator(lr_pipe.fit(X_train, y_train))\n",
        "\n",
        "# Calculate costs for each threshold using FixedThresholdClassifier with the frozen estimator on the TEST data\n",
        "test_scores = [\n",
        "    default_cost(y_test, FixedThresholdClassifier(estimator=frozen_lr_pipe, threshold=t).predict(X_test))\n",
        "    for t in thresholds\n",
        "]\n",
        "\n",
        "# Find the threshold with the minimum cost for plotting purposes (using CV scores)\n",
        "ix = np.argmin(cv_scores)\n",
        "opt_thresh_cv = thresholds[ix]\n",
        "min_cost_cv = cv_scores[ix]\n",
        "opt_cost_test = test_scores[ix]\n",
        "\n",
        "# Plot the results\n",
        "plt.figure(figsize=(8, 6))\n",
        "plt.plot(thresholds, cv_scores, label=f'CV Cost; minimum cost = {min_cost_cv:.0f}');\n",
        "plt.plot(thresholds, test_scores, label=f'Test Cost; at tuned threshold = {opt_cost_test:.0f}');\n",
        "\n",
        "plt.axvline(opt_thresh_cv, 0, 1, ls=':', color='green', label=f'Optimal CV Threshold ({opt_thresh_cv:.2f})')\n",
        "plt.axhline(min_cost_cv, xmin=0, xmax=1, ls='--', color='green')\n",
        "\n",
        "plt.xlabel('Threshold');\n",
        "plt.ylabel(\"Cost\");\n",
        "plt.title('Cost of misclassification as we \\n change the probability threshold');\n",
        "plt.legend()\n",
        "plt.show()\n"
      ],
      "metadata": {
        "colab": {
          "base_uri": "https://localhost:8080/",
          "height": 585
        },
        "id": "SCjU9S-o31tr",
        "outputId": "2afbf62e-f4b7-40cc-f40a-2dec2d953ff9"
      },
      "execution_count": null,
      "outputs": [
        {
          "output_type": "display_data",
          "data": {
            "text/plain": [
              "<Figure size 800x600 with 1 Axes>"
            ],
            "image/png": "[encoded data removed]"
          },
          "metadata": {}
        }
      ]
    },
    {
      "cell_type": "markdown",
      "source": [
        "***\n",
        "**Exercise**\n",
        "\n",
        "1. Suppose we have costs for mistakes and *benefits* for correct predictions as shown below:\n",
        "\n",
        "|             | Not default | Default |\n",
        "| ----------- | ----------- | ------- |\n",
        "| Not default |  0          | -1      |\n",
        "| Default     |  -5         |  5      |\n",
        "\n",
        "where, the negative numbers refer to cost and positive number to benefit.\n",
        "\n",
        "Replace the `default_cost()` method by a method, call it `prediction_benefits()`, to incorporate them.\n",
        "\n",
        "2. Alter the previous code block to select prediction threshold to *maximize benefit*.\n",
        "\n",
        "- What was the benefit (on the test data) of the default strategy (using threshold 0.5)?\n",
        "- What can it be improved to by tuning the threshold? What was the threshold? What was the benefit on the cross validation set?\n",
        "\n",
        "***"
      ],
      "metadata": {
        "id": "5P82itWTTvXl"
      }
    }
  ]
}